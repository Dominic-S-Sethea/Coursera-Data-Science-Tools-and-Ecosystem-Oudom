{
  "metadata": {
    "kernelspec": {
      "name": "python",
      "display_name": "Python (Pyodide)",
      "language": "python"
    },
    "language_info": {
      "codemirror_mode": {
        "name": "python",
        "version": 3
      },
      "file_extension": ".py",
      "mimetype": "text/x-python",
      "name": "python",
      "nbconvert_exporter": "python",
      "pygments_lexer": "ipython3",
      "version": "3.8"
    }
  },
  "nbformat_minor": 5,
  "nbformat": 4,
  "cells": [
    {
      "id": "1025a1e8-4493-4876-ba59-3f4b6699384b",
      "cell_type": "markdown",
      "source": "# Data Science Tools and Ecosystem",
      "metadata": {}
    },
    {
      "id": "5171d736-e279-4aeb-baaa-0469417d267c",
      "cell_type": "markdown",
      "source": "In this notebook, Data Science Tools and Ecosystem are summarized.",
      "metadata": {}
    },
    {
      "id": "c6411c58-2060-4ba3-afcd-3633326be1fc",
      "cell_type": "markdown",
      "source": "Some of the popular languages that Data Scientists use are:\n1. Python\n2. C++\n3. C#\n4. SQL\n5. R, etc.",
      "metadata": {}
    },
    {
      "id": "2edacd70-328a-4dc7-94c0-fddd57d91f05",
      "cell_type": "markdown",
      "source": "Some of the commonly used libraries used by Data Scientists include:\n1. Numpy\n2. Scikit-learn\n3. Pandas\n4. TensorFlow\n5. PyTorch, etc.",
      "metadata": {}
    },
    {
      "id": "75ae3f10-0186-4cc6-a553-e8455264a3f4",
      "cell_type": "markdown",
      "source": "|Data Science Tools|\n|---|\n|Apache Hadoop|\n|Apache Spark|\n|Python|",
      "metadata": {}
    },
    {
      "id": "30282ea6-2a51-40c6-8c00-4661516ba93f",
      "cell_type": "markdown",
      "source": "### Below are a few examples of evaluating arithmetic expressions in Python",
      "metadata": {}
    },
    {
      "id": "267854fc-7034-4c41-a245-d90e30bb6998",
      "cell_type": "code",
      "source": "#This a simple arithmetic expression to mutiply then add integers\n(3*4)+5",
      "metadata": {
        "trusted": true,
        "scrolled": true
      },
      "outputs": [
        {
          "execution_count": 24,
          "output_type": "execute_result",
          "data": {
            "text/plain": "17"
          },
          "metadata": {}
        }
      ],
      "execution_count": 24
    },
    {
      "id": "8cbd0fb4-57c4-43a3-b9d4-d39fefc90682",
      "cell_type": "code",
      "source": "#This will convert 200 minutes to hours by diving by 60\n200 / 60",
      "metadata": {
        "trusted": true
      },
      "outputs": [
        {
          "execution_count": 27,
          "output_type": "execute_result",
          "data": {
            "text/plain": "3.3333333333333335"
          },
          "metadata": {}
        }
      ],
      "execution_count": 27
    },
    {
      "id": "b90070e7-3409-4129-9e67-43b45e26114a",
      "cell_type": "markdown",
      "source": "__Objectives__\n* List popular languages for data science\n* List popular libraries for data science\n* List of well-known data science tools\n* How to provide comments in the cell",
      "metadata": {}
    },
    {
      "id": "0224b311-f545-4df4-8f2f-1a346b072f53",
      "cell_type": "markdown",
      "source": "## Author\nOudom",
      "metadata": {}
    }
  ]
}